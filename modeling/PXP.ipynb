{
 "cells": [
  {
   "cell_type": "code",
   "execution_count": 1,
   "metadata": {},
   "outputs": [],
   "source": [
    "# code replicated from https://github.com/charleywu/graphInference/blob/master/analyses/PXP.ipynb"
   ]
  },
  {
   "cell_type": "code",
   "execution_count": 1,
   "metadata": {
    "ExecuteTime": {
     "end_time": "2023-12-28T20:04:27.853421Z",
     "start_time": "2023-12-28T20:04:25.502099Z"
    },
    "scrolled": true
   },
   "outputs": [
    {
     "name": "stderr",
     "output_type": "stream",
     "text": [
      "/opt/anaconda3/lib/python3.7/site-packages/statsmodels/tools/_testing.py:19: FutureWarning: pandas.util.testing is deprecated. Use the functions in the public API at pandas.testing instead.\n",
      "  import pandas.util.testing as tm\n"
     ]
    }
   ],
   "source": [
    "import matplotlib.pyplot as plt\n",
    "import numpy as np\n",
    "import pandas as pd \n",
    "import seaborn as sns\n",
    "\n",
    "from bms import GroupBMC #https://github.com/cpilab/group-bayesian-model-comparison"
   ]
  },
  {
   "cell_type": "markdown",
   "metadata": {},
   "source": [
    "### Protected exceedance probability "
   ]
  },
  {
   "cell_type": "markdown",
   "metadata": {},
   "source": [
    "#### Group rounds"
   ]
  },
  {
   "cell_type": "code",
   "execution_count": 2,
   "metadata": {
    "ExecuteTime": {
     "end_time": "2023-12-21T15:43:08.791516Z",
     "start_time": "2023-12-21T15:43:08.779317Z"
    }
   },
   "outputs": [],
   "source": [
    "#Load data\n",
    "m = -pd.read_csv('Stanfits/IndividualWAICPlus.csv', sep=',').iloc[:, 1:].to_numpy().T\n",
    "#Negative sign is because we are switching from loss to evidence"
   ]
  },
  {
   "cell_type": "code",
   "execution_count": 3,
   "metadata": {
    "ExecuteTime": {
     "end_time": "2023-12-21T15:43:08.817033Z",
     "start_time": "2023-12-21T15:43:08.793745Z"
    }
   },
   "outputs": [],
   "source": [
    "#compute pxp\n",
    "result = GroupBMC(m).get_result().protected_exceedance_probability\n",
    "result =  result.reshape(1, result.shape[0]) #reshape from column vector to row vector\n",
    "#Save\n",
    "np.savetxt('data/modelComparison/PXP.csv', result, delimiter=',')"
   ]
  },
  {
   "cell_type": "code",
   "execution_count": 4,
   "metadata": {
    "ExecuteTime": {
     "end_time": "2023-12-21T15:43:08.822488Z",
     "start_time": "2023-12-21T15:43:08.818518Z"
    }
   },
   "outputs": [
    {
     "data": {
      "text/plain": [
       "array([[1.10755194e-32, 1.09904572e-32, 1.09270030e-32, 1.92056110e-19,\n",
       "        3.64179281e-14, 1.09292837e-32, 4.14497054e-25, 1.00000000e+00]])"
      ]
     },
     "execution_count": 4,
     "metadata": {},
     "output_type": "execute_result"
    }
   ],
   "source": [
    "result\n",
    "#\"Asocial\"       \"Unbiased\"    \"Success-based\" \"Unique\""
   ]
  },
  {
   "cell_type": "code",
   "execution_count": 5,
   "metadata": {
    "ExecuteTime": {
     "end_time": "2023-12-21T15:43:08.827754Z",
     "start_time": "2023-12-21T15:43:08.823713Z"
    }
   },
   "outputs": [],
   "source": [
    "d = {'pxp': result.tolist()[0], 'model': [\"Asocial\", \"Unbiased\",\"Success-based\",\"Unique\", \"ARS\", \"Critical\", \"Conditional\", \"ARS+Cond\"]}\n",
    "df = pd.DataFrame(data=d)"
   ]
  },
  {
   "cell_type": "code",
   "execution_count": 6,
   "metadata": {
    "ExecuteTime": {
     "end_time": "2023-12-21T15:43:08.984088Z",
     "start_time": "2023-12-21T15:43:08.829235Z"
    }
   },
   "outputs": [
    {
     "data": {
      "text/plain": [
       "<matplotlib.axes._subplots.AxesSubplot at 0x7f849111ae50>"
      ]
     },
     "execution_count": 6,
     "metadata": {},
     "output_type": "execute_result"
    },
    {
     "data": {
      "image/png": "[encoded data removed]",
      "text/plain": [
       "<Figure size 432x288 with 1 Axes>"
      ]
     },
     "metadata": {
      "needs_background": "light"
     },
     "output_type": "display_data"
    }
   ],
   "source": [
    "sns.barplot(data=df, x=\"model\", y=\"pxp\")"
   ]
  },
  {
   "cell_type": "markdown",
   "metadata": {},
   "source": [
    "#### Solo rounds"
   ]
  },
  {
   "cell_type": "code",
   "execution_count": 2,
   "metadata": {
    "ExecuteTime": {
     "end_time": "2023-12-28T20:06:01.624648Z",
     "start_time": "2023-12-28T20:06:01.601675Z"
    }
   },
   "outputs": [],
   "source": [
    "#Load data\n",
    "m = -pd.read_csv('Stanfits/SoloWAIC.csv', sep=',').iloc[:, 1:].to_numpy().T\n",
    "#Negative sign is because we are switching from loss to evidence\n",
    "\n"
   ]
  },
  {
   "cell_type": "code",
   "execution_count": 3,
   "metadata": {
    "ExecuteTime": {
     "end_time": "2023-12-28T20:06:11.789898Z",
     "start_time": "2023-12-28T20:06:11.773771Z"
    }
   },
   "outputs": [],
   "source": [
    "#compute pxp\n",
    "result = GroupBMC(m).get_result().protected_exceedance_probability\n",
    "result =  result.reshape(1, result.shape[0]) #reshape from column vector to row vector\n",
    "#Save\n",
    "np.savetxt('data/modelComparison/PXPsolo.csv', result, delimiter=',')\n"
   ]
  },
  {
   "cell_type": "code",
   "execution_count": 4,
   "metadata": {
    "ExecuteTime": {
     "end_time": "2023-12-28T20:06:22.148670Z",
     "start_time": "2023-12-28T20:06:22.137534Z"
    }
   },
   "outputs": [
    {
     "data": {
      "text/plain": [
       "array([[2.44149451e-11, 1.00000000e+00]])"
      ]
     },
     "execution_count": 4,
     "metadata": {},
     "output_type": "execute_result"
    }
   ],
   "source": [
    "result\n"
   ]
  },
  {
   "cell_type": "code",
   "execution_count": 5,
   "metadata": {
    "ExecuteTime": {
     "end_time": "2023-12-28T20:06:35.102147Z",
     "start_time": "2023-12-28T20:06:35.012717Z"
    }
   },
   "outputs": [
    {
     "data": {
      "text/plain": [
       "<matplotlib.axes._subplots.AxesSubplot at 0x7f7e783a74d0>"
      ]
     },
     "execution_count": 5,
     "metadata": {},
     "output_type": "execute_result"
    },
    {
     "data": {
      "image/png": "[encoded data removed]",
      "text/plain": [
       "<Figure size 432x288 with 1 Axes>"
      ]
     },
     "metadata": {
      "needs_background": "light"
     },
     "output_type": "display_data"
    }
   ],
   "source": [
    "d = {'pxp': result.tolist()[0], 'model': [\"Asocial\", \"ARS\"]}\n",
    "df = pd.DataFrame(data=d)\n",
    "\n",
    "sns.barplot(data=df, x=\"model\", y=\"pxp\")"
   ]
  },
  {
   "cell_type": "code",
   "execution_count": null,
   "metadata": {},
   "outputs": [],
   "source": []
  }
 ],
 "metadata": {
  "kernelspec": {
   "display_name": "Python 3",
   "language": "python",
   "name": "python3"
  },
  "language_info": {
   "codemirror_mode": {
    "name": "ipython",
    "version": 3
   },
   "file_extension": ".py",
   "mimetype": "text/x-python",
   "name": "python",
   "nbconvert_exporter": "python",
   "pygments_lexer": "ipython3",
   "version": "3.7.4"
  },
  "toc": {
   "base_numbering": 1,
   "nav_menu": {},
   "number_sections": true,
   "sideBar": true,
   "skip_h1_title": false,
   "title_cell": "Table of Contents",
   "title_sidebar": "Contents",
   "toc_cell": false,
   "toc_position": {},
   "toc_section_display": true,
   "toc_window_display": false
  }
 },
 "nbformat": 4,
 "nbformat_minor": 2
}
